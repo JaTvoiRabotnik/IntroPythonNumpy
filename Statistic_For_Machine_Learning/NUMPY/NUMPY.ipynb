{
 "cells": [
  {
   "cell_type": "markdown",
   "metadata": {},
   "source": [
    "# Giới thiệu về numpy\n",
    "\n",
    "* Numpy là một thư viện toán học rất phổ biến và đẩy quyền năng của python. Nó cho phép làm việc hiệu quả với ma trận, tính toán các phép toán của ma trận nhanh chóng và hiệu quả.\n",
    "\n",
    "* Đối tượng chính của Numpy là các dãy đa chiều đồng nhất (homogeneous multidimention array). Là một bảng tập hợp các phần tử cùng kiểu dữ liệu và được chỉ mục bằng các số nguyên dương."
   ]
  },
  {
   "cell_type": "markdown",
   "metadata": {},
   "source": [
    "* Khái niệm thứ nhất bạn cần nắm được đó làm numpy coi ma trận như là một không gian nhiều chiều.Số chiều của ma trận được numpy trả ra bởi hàm X.ndim:\n",
    "\n",
    "* Ví dụ: X1= [1, 2, 3, 4] -> Đây là ma trận một chiều X1.ndim = 1\n",
    "\n",
    "* X2 = [[0, 1], [2, 3]] -> Đây là ma trận 2 chiều X2.ndim = 2"
   ]
  },
  {
   "cell_type": "markdown",
   "metadata": {},
   "source": [
    "* Khái niệm thứ hai cũng vẫn liên quan tới chiều của ma trận, ta đã biết hàm tính số chiều của ma trận nhưng ta chưa biết hàm tính size của từng chiều. Vậy numpy có hàm np.shape(X) hỗ trợ việc này:\n",
    "\n",
    "* Ví dụ: X1 =[1, 2, 3, 4]  ->  np.shape(X1) = (4,)\n",
    "\n",
    "* X2 = [[0, 1, 5], [2, 3, 9]] -> np.shape(X2) = (2,3)"
   ]
  },
  {
   "cell_type": "markdown",
   "metadata": {},
   "source": [
    "* Khái niệm cuối cùng bạn cần nắm và cũng là khái niệm rất quan trọng đó là axis trong numpy. Axis ám chỉ chiều của matrix. Một ma trận có số chiều là n thì sẽ có axis chạy từ 0 đến n-1. Sẽ có rất nhiều hàm có tham số axis và nó ám chỉ ta tính theo chiều nào của ma trận, trong khi số chiều gọi là rank.\n",
    "* Ví dụ: Hàm sum:\n",
    "X có shape là (2, 3) thì hàm sum(axis = 0) thì sẽ cộng các số theo chiều thứ nhất và trả ra ma trận Y có shape là (1, 3). Tương tự sum(axis = 1) thì sẽ cộng các số theo chiều thứ hai và trả ra ma trận Y có shape là (2, 1).\n",
    "\n",
    "* Numpy không copy mảng nếu không gọi hàm copy()."
   ]
  },
  {
   "cell_type": "code",
   "execution_count": 3,
   "metadata": {},
   "outputs": [],
   "source": [
    "from __future__ import print_function\n",
    "import numpy as np\n",
    "\n",
    "data1 = [1, 2, 3, 4, 5]  # list\n",
    "arr1 = np.array(data1)   # 1d array\n",
    "data2 = [range(1, 5), range(5, 9)]  # list of lists\n",
    "arr2 = np.array(data2)  # 2d array\n",
    "ds = arr2.tolist()     # convert array back to list"
   ]
  },
  {
   "cell_type": "code",
   "execution_count": 4,
   "metadata": {},
   "outputs": [
    {
     "name": "stdout",
     "output_type": "stream",
     "text": [
      "List\n",
      "[1, 2, 3, 4, 5]\n",
      "array\n",
      "[1 2 3 4 5]\n",
      "List cac doi tuong list\n",
      "[range(1, 5), range(5, 9)]\n",
      "array hai chieu\n",
      "[[1 2 3 4]\n",
      " [5 6 7 8]]\n",
      "array to list\n",
      "[[1, 2, 3, 4], [5, 6, 7, 8]]\n"
     ]
    }
   ],
   "source": [
    "print(\"List\")\n",
    "print(data1)\n",
    "print(\"array\")\n",
    "print(arr1)\n",
    "print(\"List cac doi tuong list\")\n",
    "print(data2)\n",
    "print(\"array hai chieu\")\n",
    "print(arr2)\n",
    "print(\"array to list\")\n",
    "print(ds)"
   ]
  },
  {
   "cell_type": "code",
   "execution_count": 5,
   "metadata": {
    "scrolled": true
   },
   "outputs": [
    {
     "name": "stdout",
     "output_type": "stream",
     "text": [
      "[ 0.  0.  0.  0.  0.  0.  0.  0.  0.  0.]\n",
      "[[ 0.  0.  0.  0.  0.  0.]\n",
      " [ 0.  0.  0.  0.  0.  0.]\n",
      " [ 0.  0.  0.  0.  0.  0.]]\n",
      "[ 1.  1.  1.  1.  1.  1.  1.  1.  1.  1.]\n",
      "[ 0.    0.25  0.5   0.75  1.  ]\n",
      "[    1.    10.   100.  1000.]\n"
     ]
    }
   ],
   "source": [
    "# Create special arrays\n",
    "print(np.zeros(10))\n",
    "print(np.zeros((3, 6)))\n",
    "print(np.ones(10))\n",
    "print(np.linspace(0, 1, 5)) # 0 to 1 (inclusive) with 5 points\n",
    "print(np.logspace(0, 3, 4)) # 10^0 to 10^3 (inclusive) with 4 points\n"
   ]
  },
  {
   "cell_type": "code",
   "execution_count": 6,
   "metadata": {},
   "outputs": [
    {
     "name": "stdout",
     "output_type": "stream",
     "text": [
      "[0 1 2 3 4]\n",
      "[ 0.  1.  2.  3.  4.]\n"
     ]
    }
   ],
   "source": [
    "int_array = np.arange(5)\n",
    "float_array = int_array.astype(float)\n",
    "print(int_array)\n",
    "print(float_array)"
   ]
  },
  {
   "cell_type": "code",
   "execution_count": 7,
   "metadata": {
    "scrolled": false
   },
   "outputs": [
    {
     "name": "stdout",
     "output_type": "stream",
     "text": [
      "int32\n",
      "int32\n",
      "2\n",
      "(2, 4)\n",
      "8\n",
      "2\n"
     ]
    }
   ],
   "source": [
    "# Examining arrays\n",
    "print(arr1.dtype) # float64\n",
    "print(arr2.dtype) # int32\n",
    "print(arr2.ndim) # 2\n",
    "print(arr2.shape) # (2, 4) - axis 0 is rows, axis 1 is columns\n",
    "print(arr2.size)  # 8 - total number of elements\n",
    "print(len(arr2)) # 2 - size of first dimension (aka axis)"
   ]
  },
  {
   "cell_type": "code",
   "execution_count": 8,
   "metadata": {},
   "outputs": [
    {
     "name": "stdout",
     "output_type": "stream",
     "text": [
      "[[ 0.  1.  2.  3.  4.]\n",
      " [ 5.  6.  7.  8.  9.]]\n",
      "(2, 5)\n",
      "[[ 0.  1.]\n",
      " [ 2.  3.]\n",
      " [ 4.  5.]\n",
      " [ 6.  7.]\n",
      " [ 8.  9.]]\n"
     ]
    }
   ],
   "source": [
    "arr = np.arange(10, dtype=float).reshape((2, 5))\n",
    "print(arr)\n",
    "print(arr.shape)\n",
    "print(arr.reshape(5, 2))\n"
   ]
  },
  {
   "cell_type": "code",
   "execution_count": 9,
   "metadata": {},
   "outputs": [
    {
     "name": "stdout",
     "output_type": "stream",
     "text": [
      "[0 1]\n",
      "[[0]\n",
      " [1]]\n"
     ]
    }
   ],
   "source": [
    "# Add an axis\n",
    "a = np.array([0, 1])\n",
    "a_col = a[:, np.newaxis]\n",
    "print(a)\n",
    "print(a_col)\n",
    "# or a_col = a[:, None]"
   ]
  },
  {
   "cell_type": "code",
   "execution_count": 10,
   "metadata": {},
   "outputs": [
    {
     "name": "stdout",
     "output_type": "stream",
     "text": [
      "[[0 1]]\n"
     ]
    }
   ],
   "source": [
    "# Doi cho\n",
    "print(a_col.T)"
   ]
  },
  {
   "cell_type": "code",
   "execution_count": 11,
   "metadata": {},
   "outputs": [
    {
     "name": "stdout",
     "output_type": "stream",
     "text": [
      "[ 33.   1.   2.   3.   4.   5.   6.   7.   8.   9.]\n",
      "[[ 0.  1.  2.  3.  4.]\n",
      " [ 5.  6.  7.  8.  9.]]\n"
     ]
    }
   ],
   "source": [
    "# Flatten: always returns a flat copy of the orriginal array\n",
    "arr_flt = arr.flatten()\n",
    "arr_flt[0] = 33\n",
    "print(arr_flt)\n",
    "print(arr)"
   ]
  },
  {
   "cell_type": "code",
   "execution_count": 13,
   "metadata": {},
   "outputs": [
    {
     "name": "stdout",
     "output_type": "stream",
     "text": [
      "[ 33.   1.   2.   3.   4.   5.   6.   7.   8.   9.]\n",
      "[[ 33.   1.   2.   3.   4.]\n",
      " [  5.   6.   7.   8.   9.]]\n"
     ]
    }
   ],
   "source": [
    "arr_flt = arr.ravel()\n",
    "arr_flt[0] = 33\n",
    "print(arr_flt)\n",
    "print(arr)"
   ]
  },
  {
   "cell_type": "code",
   "execution_count": 15,
   "metadata": {
    "scrolled": true
   },
   "outputs": [
    {
     "name": "stdout",
     "output_type": "stream",
     "text": [
      "[0 1]\n",
      "[2 3]\n",
      "[[0 1]\n",
      " [2 3]]\n",
      "[[0 2]\n",
      " [1 3]]\n"
     ]
    }
   ],
   "source": [
    "# Stack arrays\n",
    "a = np.array([0, 1])\n",
    "b = np.array([2, 3])\n",
    "print(a)\n",
    "print(b)\n",
    "ab = np.stack((a, b))\n",
    "cd = np.stack((a,b)).T\n",
    "print(ab)\n",
    "print(cd) # Giong nhu ma tran chuyen vi, dong thanh cot\n",
    "# or np.hstack((a[:, None], b[:, None]))"
   ]
  },
  {
   "cell_type": "code",
   "execution_count": 16,
   "metadata": {
    "scrolled": false
   },
   "outputs": [
    {
     "name": "stdout",
     "output_type": "stream",
     "text": [
      "[[ 0.  1.  2.  3.  4.]\n",
      " [ 5.  6.  7.  8.  9.]]\n",
      "[ 0.  1.  2.  3.  4.]\n",
      "[ 5.  6.  7.  8.  9.]\n",
      "3.0\n",
      "3.0\n"
     ]
    }
   ],
   "source": [
    "# Selection\n",
    "arr = np.arange(10, dtype=float).reshape((2, 5))\n",
    "\n",
    "print(arr)\n",
    "print(arr[0]) # 0th element (slices like a list)\n",
    "print(arr[1]) # 0th element (slices like a list)\n",
    "\n",
    "print(arr[0, 3])             # row 0, column 3: returns 3\n",
    "print(arr[0][3])             # alternative syntax"
   ]
  },
  {
   "cell_type": "code",
   "execution_count": 17,
   "metadata": {},
   "outputs": [
    {
     "name": "stdout",
     "output_type": "stream",
     "text": [
      "[ 0.  1.  2.  3.  4.]\n",
      "[ 0.  5.]\n",
      "[[ 0.  1.]\n",
      " [ 5.  6.]]\n",
      "[[ 2.  3.  4.]\n",
      " [ 7.  8.  9.]]\n",
      "[[ 1.  2.  3.]\n",
      " [ 6.  7.  8.]]\n"
     ]
    }
   ],
   "source": [
    "arr = np.arange(10, dtype=float).reshape((2, 5))\n",
    "\n",
    "print(arr[0, :]) # row 0: returns 1d array ([0, 1, 2, 3, 4])\n",
    "print(arr[:, 0]) # column 0: returns 1d array ([0, 5])\n",
    "print(arr[:, :2]) # columns strictly before index 2 (2 first columns)\n",
    "print(arr[:, 2:]) # columns after index 2 included\n",
    "arr2 = arr[:, 1:4] # columns between index 1 (included) and 4 (excluded)\n",
    "print(arr2)"
   ]
  },
  {
   "cell_type": "code",
   "execution_count": 18,
   "metadata": {},
   "outputs": [
    {
     "name": "stdout",
     "output_type": "stream",
     "text": [
      "[[ 0.  1.  2.  3.  4.]\n",
      " [ 5.  6.  7.  8.  9.]]\n",
      "[[ 33.   1.   2.   3.   4.]\n",
      " [  5.   6.   7.   8.   9.]]\n",
      "[[ 33.   1.   2.   3.   4.]\n",
      " [  5.   6.   7.   8.   9.]]\n"
     ]
    }
   ],
   "source": [
    "arr = np.arange(10, dtype=float).reshape((2, 5))\n",
    "print(arr)\n",
    "arr2 = arr\n",
    "# returns a view (not a copy)\n",
    "arr2[0, 0] = 33\n",
    "print(arr2)\n",
    "print(arr)\n"
   ]
  },
  {
   "cell_type": "code",
   "execution_count": 19,
   "metadata": {},
   "outputs": [
    {
     "name": "stdout",
     "output_type": "stream",
     "text": [
      "[[ 0.  1.  2.  3.  4.]\n",
      " [ 5.  6.  7.  8.  9.]]\n",
      "[[ 33.   1.   2.   3.   4.]\n",
      " [  5.   6.   7.   8.   9.]]\n",
      "[[ 0.  1.  2.  3.  4.]\n",
      " [ 5.  6.  7.  8.  9.]]\n"
     ]
    }
   ],
   "source": [
    "arr = np.arange(10, dtype=float).reshape((2, 5))\n",
    "print(arr)\n",
    "arr2 = arr.copy()\n",
    "arr2[0, 0] = 33\n",
    "print(arr2)\n",
    "print(arr)"
   ]
  },
  {
   "cell_type": "code",
   "execution_count": 20,
   "metadata": {},
   "outputs": [
    {
     "name": "stdout",
     "output_type": "stream",
     "text": [
      "[[ 1.  2.  3.]\n",
      " [ 6.  7.  8.]]\n",
      "[[ 44.   2.   3.]\n",
      " [  6.   7.   8.]]\n",
      "[[ 0.  1.  2.  3.  4.]\n",
      " [ 5.  6.  7.  8.  9.]]\n"
     ]
    }
   ],
   "source": [
    "arr2 = arr[:, [1,2,3]] # return a copy\n",
    "print(arr2)\n",
    "arr2[0, 0] = 44\n",
    "print(arr2)\n",
    "print(arr)"
   ]
  },
  {
   "cell_type": "code",
   "execution_count": 21,
   "metadata": {},
   "outputs": [
    {
     "name": "stdout",
     "output_type": "stream",
     "text": [
      "[[ 0.  1.  2.  3.  4.]\n",
      " [ 5.  6.  7.  8.  9.]]\n",
      "[ 6.  7.  8.  9.]\n",
      "[ 44.   7.   8.   9.]\n",
      "[[ 0.  1.  2.  3.  4.]\n",
      " [ 5.  6.  7.  8.  9.]]\n"
     ]
    }
   ],
   "source": [
    "print(arr)\n",
    "arr2 = arr[arr > 5] # return a copy nhung phan tu > 5 -> mang 1 chieu\n",
    "print(arr2)\n",
    "arr2[0] = 44\n",
    "print(arr2)\n",
    "print(arr)"
   ]
  },
  {
   "cell_type": "code",
   "execution_count": 22,
   "metadata": {},
   "outputs": [
    {
     "name": "stdout",
     "output_type": "stream",
     "text": [
      "[[ 0.  1.  2.  3.  4.]\n",
      " [ 5.  0.  0.  0.  0.]]\n"
     ]
    }
   ],
   "source": [
    "arr[arr > 5] = 0 # nhung phan tu > 5 thi gan bang 0\n",
    "print(arr)"
   ]
  },
  {
   "cell_type": "code",
   "execution_count": 23,
   "metadata": {},
   "outputs": [
    {
     "name": "stdout",
     "output_type": "stream",
     "text": [
      "[ True False False  True]\n",
      "['Joe' 'Will']\n",
      "[ True False  True  True]\n",
      "['Bob' 'Joe' 'Joe' 'Bob']\n",
      "['Bob' 'Joe']\n"
     ]
    }
   ],
   "source": [
    "names = np.array(['Bob', 'Joe', 'Will', 'Bob'])\n",
    "print(names == 'Bob') # returns a boolean array\n",
    "print(names[names != 'Bob']) # logical selection\n",
    "print((names == 'Bob') | (names == 'Will')) # keywords \"and/or\" don't work with boolean ˓→arrays\n",
    "names[names != 'Bob'] = 'Joe' # assign based on a logical selection\n",
    "print(names)\n",
    "a = np.unique(names) # set function\n",
    "print(a)"
   ]
  },
  {
   "cell_type": "code",
   "execution_count": 24,
   "metadata": {
    "scrolled": true
   },
   "outputs": [
    {
     "name": "stdout",
     "output_type": "stream",
     "text": [
      "[0 1 2 3 4]\n",
      "[ 0 10 20 30 40]\n",
      "[ 0.          1.          1.41421356  1.73205081  2.        ]\n",
      "[ 0.  1.  2.  2.  2.]\n",
      "[ 0.  1.  1.  1.  2.]\n",
      "[False False False False False]\n",
      "[ 0.          2.          3.41421356  4.73205081  6.        ]\n",
      "[ 1.          1.          3.          1.73205081  5.        ]\n",
      "[[-1.01957824  0.81838943]\n",
      " [ 0.47882811  0.920258  ]\n",
      " [ 1.21961646 -1.44135102]\n",
      " [-0.1742606   0.95699866]]\n",
      "0.219862600296\n",
      "0.929375191586\n",
      "5\n",
      "1.75890080237\n",
      "[ 0.50460573  1.25429507]\n",
      "[-0.20118881  1.39908611 -0.22173455  0.78273806]\n"
     ]
    }
   ],
   "source": [
    "nums = np.arange(5)\n",
    "print(nums)\n",
    "print(nums * 10)               # multiply each element by 10\n",
    "nums = np.sqrt(nums)    # square root of each element\n",
    "print(nums)\n",
    "print(np.ceil(nums))           # also floor, rint (round to nearest int)\n",
    "print(np.floor(nums))          # Lam tron so nguyen san\n",
    "print(np.isnan(nums))          # checks xem khong phai la so \n",
    "print(nums + np.arange(5))     # Cong cac phan tu cua 2 mang\n",
    "print(np.maximum(nums, np.array([1, -2, 3, -4, 5]))) # compare element-wise, lay phan tu lớn nhất\n",
    "\n",
    "# Compute Euclidean distance between 2 vectors\n",
    "vec1 = np.random.randn(10)  # Tra ve 10 phan tu la phan phoi chuan trong 1 array\n",
    "vec2 = np.random.randn(10)\n",
    "dist = np.sqrt(np.sum((vec1 - vec2) ** 2))\n",
    "\n",
    "\n",
    "# math and stats\n",
    "rnd = np.random.randn(4, 2)  # random normals in 4x2 array co phan phoi chuan\n",
    "\n",
    "print(rnd)\n",
    "print(rnd.mean())           # Tinh mean\n",
    "print(rnd.std())             # Tinh do lech chuan\n",
    "print(rnd.argmin())                 # index of minimum element\n",
    "print(rnd.sum())  \n",
    "print(rnd.sum(axis=0))              # sum of columns\n",
    "print(rnd.sum(axis=1))              # sum of rows"
   ]
  },
  {
   "cell_type": "code",
   "execution_count": 12,
   "metadata": {},
   "outputs": [
    {
     "name": "stdout",
     "output_type": "stream",
     "text": [
      "[[ 1.18344381 -0.44590868]\n",
      " [ 0.35305993 -0.03219138]\n",
      " [ 0.78492624  0.3056839 ]\n",
      " [-0.05014605  0.02154613]]\n",
      "5\n",
      "True\n",
      "False\n",
      "[[ 0.00630595  0.20303476  0.76478993]\n",
      " [ 0.55513384  0.74358546  0.93777808]]\n",
      "[ -2.79962074e-01   1.31281104e+00  -9.27155784e-01  -4.01302169e-01\n",
      "  -2.31085929e+00  -2.08460156e+00   4.59241643e-01   1.62191344e+00\n",
      "   1.94515120e-01  -2.08631547e-03]\n",
      "[0 2 2 0 1 1 1 1 2 0]\n"
     ]
    }
   ],
   "source": [
    "# methods for boolean arrays\n",
    "import numpy as np\n",
    "rnd = np.random.randn(4, 2)\n",
    "print(rnd)\n",
    "print((rnd > 0).sum())   # counts number of positive values\n",
    "print((rnd > 0).any())   # checks xem co gia tri nao > 0  -> true\n",
    "print((rnd > 0).all())   # checks xem tat ca > 0 -> false\n",
    "\n",
    "# random numbers\n",
    "np.random.seed(12234) # Set the seed\n",
    "print(np.random.rand(2, 3)) # 2 x 3 matrix in [0, 1]\n",
    "\n",
    "print(np.random.randn(10)) # random normals (mean 0, sd 1)\n",
    "print(np.random.randint(0, 3, 10)) # tao ra array co 10 thanh to, int, 0 hoac 1 hoac 2"
   ]
  },
  {
   "cell_type": "code",
   "execution_count": 4,
   "metadata": {},
   "outputs": [
    {
     "name": "stdout",
     "output_type": "stream",
     "text": [
      "[[ 0  1  2]\n",
      " [10 11 12]\n",
      " [20 21 22]\n",
      " [30 31 32]]\n"
     ]
    }
   ],
   "source": [
    "# Broadcasting\n",
    "a = np.array([[ 0, 0, 0],\n",
    "[10, 10, 10],\n",
    "[20, 20, 20],\n",
    "[30, 30, 30]])\n",
    "b = np.array([0, 1, 2])\n",
    "print(a + b)"
   ]
  },
  {
   "cell_type": "code",
   "execution_count": null,
   "metadata": {},
   "outputs": [],
   "source": []
  }
 ],
 "metadata": {
  "kernelspec": {
   "display_name": "Python 3",
   "language": "python",
   "name": "python3"
  },
  "language_info": {
   "codemirror_mode": {
    "name": "ipython",
    "version": 3
   },
   "file_extension": ".py",
   "mimetype": "text/x-python",
   "name": "python",
   "nbconvert_exporter": "python",
   "pygments_lexer": "ipython3",
   "version": "3.6.4"
  }
 },
 "nbformat": 4,
 "nbformat_minor": 2
}
