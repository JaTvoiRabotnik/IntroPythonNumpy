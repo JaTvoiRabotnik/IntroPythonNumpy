{
 "cells": [
  {
   "cell_type": "code",
   "execution_count": 2,
   "metadata": {},
   "outputs": [],
   "source": [
    "import statistics"
   ]
  },
  {
   "cell_type": "code",
   "execution_count": 3,
   "metadata": {},
   "outputs": [],
   "source": [
    "import numpy as np"
   ]
  },
  {
   "cell_type": "code",
   "execution_count": 5,
   "metadata": {},
   "outputs": [],
   "source": [
    "import scipy.stats as stats"
   ]
  },
  {
   "cell_type": "code",
   "execution_count": 18,
   "metadata": {},
   "outputs": [],
   "source": [
    "import matplotlib.pyplot as plt"
   ]
  },
  {
   "cell_type": "code",
   "execution_count": 85,
   "metadata": {},
   "outputs": [],
   "source": [
    "import random\n",
    "from random import choices"
   ]
  },
  {
   "cell_type": "markdown",
   "metadata": {},
   "source": [
    "### Điểm môn toán của 3 lớp 12 A, 12 B, 12 C"
   ]
  },
  {
   "cell_type": "code",
   "execution_count": 22,
   "metadata": {},
   "outputs": [],
   "source": [
    "diemLopA = [10,2,8,1,2,3,4,6,5,7,8,4]\n",
    "diemLopB = [6,5,4,4,5,6,6,5,4,4,5,6]\n",
    "diemLopC = [10,0,1,9,2,8,7,3,4,6,5,5]"
   ]
  },
  {
   "cell_type": "markdown",
   "metadata": {},
   "source": [
    "### Điểm số trung bình của lớp 12 A"
   ]
  },
  {
   "cell_type": "code",
   "execution_count": 23,
   "metadata": {},
   "outputs": [
    {
     "name": "stdout",
     "output_type": "stream",
     "text": [
      "5\n"
     ]
    }
   ],
   "source": [
    "dtb12A = statistics.mean(diemLopA)\n",
    "print(dtb12A)"
   ]
  },
  {
   "cell_type": "markdown",
   "metadata": {},
   "source": [
    "### Điểm số trung bình của lớp 12 B"
   ]
  },
  {
   "cell_type": "code",
   "execution_count": 24,
   "metadata": {},
   "outputs": [
    {
     "name": "stdout",
     "output_type": "stream",
     "text": [
      "5\n"
     ]
    }
   ],
   "source": [
    "dtb12B = statistics.mean(diemLopB)\n",
    "print(dtb12B)"
   ]
  },
  {
   "cell_type": "markdown",
   "metadata": {},
   "source": [
    "### Điểm số trung bình của lớp 12 C"
   ]
  },
  {
   "cell_type": "code",
   "execution_count": 25,
   "metadata": {},
   "outputs": [
    {
     "name": "stdout",
     "output_type": "stream",
     "text": [
      "5\n"
     ]
    }
   ],
   "source": [
    "dtb12C = statistics.mean(diemLopC)\n",
    "print(dtb12C)"
   ]
  },
  {
   "cell_type": "markdown",
   "metadata": {},
   "source": [
    "### Mức độ phân tán của biến ngẫu nhiên điểm môn toán lớp 12 B"
   ]
  },
  {
   "cell_type": "code",
   "execution_count": 26,
   "metadata": {},
   "outputs": [
    {
     "data": {
      "text/plain": [
       "0.7272727272727273"
      ]
     },
     "execution_count": 26,
     "metadata": {},
     "output_type": "execute_result"
    }
   ],
   "source": [
    "statistics.variance(diemLopB)"
   ]
  },
  {
   "cell_type": "markdown",
   "metadata": {},
   "source": [
    "### Mức độ phân tán của biến ngẫu nhiên điểm môn toán lớp 12 C"
   ]
  },
  {
   "cell_type": "code",
   "execution_count": 27,
   "metadata": {},
   "outputs": [
    {
     "data": {
      "text/plain": [
       "10"
      ]
     },
     "execution_count": 27,
     "metadata": {},
     "output_type": "execute_result"
    }
   ],
   "source": [
    "statistics.variance(diemLopC)"
   ]
  },
  {
   "cell_type": "markdown",
   "metadata": {},
   "source": [
    "### Độ lệch chuẩn"
   ]
  },
  {
   "cell_type": "code",
   "execution_count": 35,
   "metadata": {},
   "outputs": [
    {
     "name": "stdout",
     "output_type": "stream",
     "text": [
      "0.8528028654224418\n",
      "3.1622776601683795\n"
     ]
    }
   ],
   "source": [
    "stdB = statistics.stdev(diemLopB)\n",
    "stdC = statistics.stdev(diemLopC)\n",
    "\n",
    "print(stdB)\n",
    "print(stdC)"
   ]
  },
  {
   "cell_type": "markdown",
   "metadata": {},
   "source": [
    "### Hế số tương quan điểm toán và điểm Lý"
   ]
  },
  {
   "cell_type": "code",
   "execution_count": 12,
   "metadata": {},
   "outputs": [
    {
     "name": "stdout",
     "output_type": "stream",
     "text": [
      "0.9037965415326229\n"
     ]
    }
   ],
   "source": [
    "diemToan = [10,2,8,1,2,3,4,9,5,7,8,4]\n",
    "diemLy = [9,3,8,2,4,5,2,10,4,8,9,6]\n",
    "diemVan = [1,8,1,9,6,8,7,3,4,6,5,5]\n",
    "\n",
    "corToanLy, p = stats.pearsonr(diemToan,diemLy)\n",
    "print(corToanLy)"
   ]
  },
  {
   "cell_type": "markdown",
   "metadata": {},
   "source": [
    "### Hế số tương quan điểm toán và điểm Văn"
   ]
  },
  {
   "cell_type": "code",
   "execution_count": 14,
   "metadata": {},
   "outputs": [
    {
     "name": "stdout",
     "output_type": "stream",
     "text": [
      "-0.8465636460502544\n"
     ]
    }
   ],
   "source": [
    "corToanVan, p = stats.pearsonr(diemToan,diemVan)\n",
    "print(corToanVan)"
   ]
  },
  {
   "cell_type": "markdown",
   "metadata": {},
   "source": [
    "### Biểu diễn trên đồ thị"
   ]
  },
  {
   "cell_type": "code",
   "execution_count": 40,
   "metadata": {},
   "outputs": [
    {
     "data": {
      "text/plain": [
       "Text(0,0.5,'ĐIỂM LÝ')"
      ]
     },
     "execution_count": 40,
     "metadata": {},
     "output_type": "execute_result"
    },
    {
     "data": {
      "image/png": "[encoded data removed]",
      "text/plain": [
       "<matplotlib.figure.Figure at 0x2288b5a1e48>"
      ]
     },
     "metadata": {},
     "output_type": "display_data"
    }
   ],
   "source": [
    "# Kích thuoc\n",
    "fig_size = plt.rcParams[\"figure.figsize\"]\n",
    "fig_size[0] = 8\n",
    "fig_size[1] = 6\n",
    "plt.rcParams[\"figure.figsize\"] = fig_size\n",
    "\n",
    "# show\n",
    "plt.scatter(diemToan, diemLy, s=100)\n",
    "plt.xlabel('ĐIỂM TOÁN')\n",
    "plt.ylabel('ĐIỂM LÝ')\n"
   ]
  },
  {
   "cell_type": "code",
   "execution_count": 39,
   "metadata": {},
   "outputs": [
    {
     "data": {
      "text/plain": [
       "Text(0,0.5,'ĐIỂM LÝ')"
      ]
     },
     "execution_count": 39,
     "metadata": {},
     "output_type": "execute_result"
    },
    {
     "data": {
      "image/png": "[encoded data removed]",
      "text/plain": [
       "<matplotlib.figure.Figure at 0x2288b593898>"
      ]
     },
     "metadata": {},
     "output_type": "display_data"
    }
   ],
   "source": [
    "plt.scatter(diemToan, diemVan, s=100)\n",
    "plt.xlabel('ĐIỂM TOÁN')\n",
    "plt.ylabel('ĐIỂM LÝ')"
   ]
  },
  {
   "cell_type": "markdown",
   "metadata": {},
   "source": [
    "### Tạo ra tổng thể ngẫu nhiên có 7 phần tử"
   ]
  },
  {
   "cell_type": "code",
   "execution_count": 78,
   "metadata": {},
   "outputs": [
    {
     "name": "stdout",
     "output_type": "stream",
     "text": [
      "[8.242977461743418, 11.45936093378921, 9.329068793553871, 10.027414244866494, 14.954943400312818, 15.70173323439059, 10.712710464777443]\n"
     ]
    }
   ],
   "source": [
    "tongThe = np.random.normal(loc = 10, scale = 3, size = 7) \n",
    "tongThe = tongThe.tolist()\n",
    "print(tongThe)"
   ]
  },
  {
   "cell_type": "markdown",
   "metadata": {},
   "source": [
    "### Lấy mẫu không hoàn lại 4 phần tử"
   ]
  },
  {
   "cell_type": "code",
   "execution_count": 93,
   "metadata": {},
   "outputs": [
    {
     "name": "stdout",
     "output_type": "stream",
     "text": [
      "[10.027414244866494, 8.242977461743418, 14.954943400312818, 15.70173323439059]\n"
     ]
    }
   ],
   "source": [
    "mau1 = random.sample(tongThe,  4)\n",
    "print(mau1)"
   ]
  },
  {
   "cell_type": "markdown",
   "metadata": {},
   "source": [
    "### Lấy mẫu có hoàn lại 4 phần tử"
   ]
  },
  {
   "cell_type": "code",
   "execution_count": 94,
   "metadata": {},
   "outputs": [
    {
     "name": "stdout",
     "output_type": "stream",
     "text": [
      "[10.71271046 10.02741424 10.02741424  8.24297746]\n"
     ]
    }
   ],
   "source": [
    "mau2 = np.random.choice(tongThe, size = 4, replace=True)\n",
    "print(mau2)"
   ]
  },
  {
   "cell_type": "markdown",
   "metadata": {},
   "source": [
    "### Chúng ta tạo ra thu nhập của 2 triệu người tại Bình Định và lấy mẫu ngẫu nhiên 500 người"
   ]
  },
  {
   "cell_type": "code",
   "execution_count": 100,
   "metadata": {},
   "outputs": [],
   "source": [
    "thuNhap = np.random.normal(loc = 10, scale = 3, size = 2000000) \n",
    "thuNhap = thuNhap.tolist()"
   ]
  },
  {
   "cell_type": "code",
   "execution_count": 106,
   "metadata": {},
   "outputs": [],
   "source": [
    "mau3 = np.random.choice(thuNhap, size = 500, replace=True)"
   ]
  },
  {
   "cell_type": "markdown",
   "metadata": {},
   "source": [
    "### Tính các tham số của Mẫu"
   ]
  },
  {
   "cell_type": "code",
   "execution_count": 121,
   "metadata": {},
   "outputs": [
    {
     "name": "stdout",
     "output_type": "stream",
     "text": [
      "9.807784806306927\n",
      "2.963597978683648\n"
     ]
    }
   ],
   "source": [
    "import math\n",
    "import matplotlib.mlab as mlab\n",
    "\n",
    "\n",
    "mean = statistics.mean(mau3)\n",
    "phuongSai = statistics.variance(mau3)\n",
    "std = math.sqrt(phuongSai)\n",
    "\n",
    "print(mean)\n",
    "print(std)"
   ]
  },
  {
   "cell_type": "markdown",
   "metadata": {},
   "source": [
    "### Vẽ biểu đồ histogram"
   ]
  },
  {
   "cell_type": "code",
   "execution_count": 118,
   "metadata": {},
   "outputs": [
    {
     "data": {
      "image/png": "[encoded data removed]",
      "text/plain": [
       "<matplotlib.figure.Figure at 0x228898e2748>"
      ]
     },
     "metadata": {},
     "output_type": "display_data"
    }
   ],
   "source": [
    "n, bins, patches = plt.hist(mau3, normed=1, facecolor='green', alpha=0.5)"
   ]
  },
  {
   "cell_type": "markdown",
   "metadata": {},
   "source": [
    "### Vẽ biểu đồ histogram với đường cong"
   ]
  },
  {
   "cell_type": "code",
   "execution_count": 120,
   "metadata": {},
   "outputs": [
    {
     "data": {
      "text/plain": [
       "Text(0,0.5,'Probability')"
      ]
     },
     "execution_count": 120,
     "metadata": {},
     "output_type": "execute_result"
    },
    {
     "data": {
      "image/png": "[encoded data removed]",
      "text/plain": [
       "<matplotlib.figure.Figure at 0x2288ced22e8>"
      ]
     },
     "metadata": {},
     "output_type": "display_data"
    }
   ],
   "source": [
    "n, bins, patches = plt.hist(mau3, normed=1, facecolor='green', alpha=0.5)\n",
    "\n",
    "y = mlab.normpdf(bins, mean, std)\n",
    "\n",
    "plt.plot(bins, y, 'r--')\n",
    "plt.xlabel('Smarts')\n",
    "plt.ylabel('Probability')"
   ]
  },
  {
   "cell_type": "markdown",
   "metadata": {},
   "source": [
    "### Kiểm Định xem: Nữ có học giỏi Toán hơn Nam không?"
   ]
  },
  {
   "cell_type": "code",
   "execution_count": 128,
   "metadata": {},
   "outputs": [],
   "source": [
    "# Điểm số của Nam và nữ\n",
    "diemNam = [10,1.75,8,1,2,3,4,9,5,7,8,4]\n",
    "diemNu  = [1,8,1,9,6,8,7,3,4,6,5,5]"
   ]
  },
  {
   "cell_type": "code",
   "execution_count": 129,
   "metadata": {},
   "outputs": [
    {
     "name": "stdout",
     "output_type": "stream",
     "text": [
      "0.9859339483854462\n"
     ]
    }
   ],
   "source": [
    "tval, pval = stats.ttest_ind(diemNam, diemNu, equal_var=True)\n",
    "print(pval)"
   ]
  },
  {
   "cell_type": "markdown",
   "metadata": {},
   "source": [
    "### Vậy NAM VÀ NỮ HỌC GIỎI TOÁN NHƯ NHAU"
   ]
  }
 ],
 "metadata": {
  "kernelspec": {
   "display_name": "Python 3",
   "language": "python",
   "name": "python3"
  },
  "language_info": {
   "codemirror_mode": {
    "name": "ipython",
    "version": 3
   },
   "file_extension": ".py",
   "mimetype": "text/x-python",
   "name": "python",
   "nbconvert_exporter": "python",
   "pygments_lexer": "ipython3",
   "version": "3.6.4"
  }
 },
 "nbformat": 4,
 "nbformat_minor": 2
}
